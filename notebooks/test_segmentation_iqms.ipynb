{
 "cells": [
  {
   "cell_type": "markdown",
   "id": "0bec1d57",
   "metadata": {},
   "source": [
    "# Testing segmentation based IQMs, using the ones from MRIQC\n",
    "## Load a segmentation map"
   ]
  },
  {
   "cell_type": "code",
   "execution_count": null,
   "id": "031551d4",
   "metadata": {},
   "outputs": [],
   "source": [
    "from pathlib import Path\n",
    "import numpy as np\n",
    "import nibabel as ni\n",
    "base = Path(\"/home/tsanchez/Documents/mial/repositories/qc_fetal_brain/fetal_brain_qc/cli/test/\")\n",
    "sub=\"003\"\n",
    "run=5\n",
    "\n",
    "\n",
    "path_seg_proba = base/f\"sub-{sub}/ses-01/sub-{sub}_ses-01_acq-haste_run-{run}desc-proba_seg.npz\"\n",
    "path_data = base/f\"sub-{sub}/ses-01/sub-{sub}_ses-01_acq-haste_run-{run}_desc-cropped_T2w.nii.gz\"\n",
    "path_seg = base/f\"sub-{sub}/ses-01/sub-{sub}_ses-01_acq-haste_run-{run}_seg.nii.gz\""
   ]
  },
  {
   "cell_type": "code",
   "execution_count": null,
   "id": "74945ecd",
   "metadata": {},
   "outputs": [],
   "source": [
    "proba = np.load(path_seg_proba)[\"probabilities\"]\n",
    "datanii = ni.load(path_data)\n",
    "data = datanii.get_fdata().transpose(2,1,0)\n",
    "seg = ni.load(path_seg).get_fdata().transpose(2,1,0)"
   ]
  },
  {
   "cell_type": "markdown",
   "id": "d383ba5f",
   "metadata": {},
   "source": [
    "Defining segmentations according to FETA labels\n",
    "0. Background and non-brain tissue\n",
    "1. Cerebrospinal fluid\n",
    "2. Grey Matter\n",
    "3. White Matter\n",
    "4. Ventricles\n",
    "5. Cerebellum\n",
    "6. Deep Grey Matter\n",
    "7. Brainstem"
   ]
  },
  {
   "cell_type": "code",
   "execution_count": null,
   "id": "8356db6b",
   "metadata": {},
   "outputs": [],
   "source": [
    "SEGM = {\"BG\":0,\"CSF\":1,\"GM\":2,\"WM\":3}#,\"LV\":4,\"CBM\":5,\"SGM\":6,\"BS\":7}\n",
    "segm_names = list(SEGM.keys())"
   ]
  },
  {
   "cell_type": "markdown",
   "id": "c2ff5358",
   "metadata": {},
   "source": [
    "Merge data from seg and proba.\n",
    "- Under GM, put the GM and the SGM (subcortical gray matter)\n",
    "- Under CSF, put the CSF and ventricle"
   ]
  },
  {
   "cell_type": "code",
   "execution_count": null,
   "id": "d55f6252",
   "metadata": {},
   "outputs": [],
   "source": [
    "print((seg==6).sum(),(seg==4).sum(),(proba[6]).sum(),(proba[4]).sum())"
   ]
  },
  {
   "cell_type": "code",
   "execution_count": null,
   "id": "56615271",
   "metadata": {},
   "outputs": [],
   "source": [
    "print((seg==2).sum(),(seg==1).sum(),(proba[2]).sum(),(proba[1]).sum())"
   ]
  },
  {
   "cell_type": "code",
   "execution_count": null,
   "id": "4b828b86",
   "metadata": {},
   "outputs": [],
   "source": [
    "proba[1] += proba[4]\n",
    "proba[2] += proba[6]\n",
    "seg[seg==4] = 1 \n",
    "seg[seg==6] = 2"
   ]
  },
  {
   "cell_type": "code",
   "execution_count": null,
   "id": "1023f18b",
   "metadata": {},
   "outputs": [],
   "source": [
    "print((seg==2).sum(),(seg==1).sum(),(proba[2]).sum(),(proba[1]).sum())"
   ]
  },
  {
   "cell_type": "code",
   "execution_count": null,
   "id": "d3cfb851",
   "metadata": {},
   "outputs": [],
   "source": [
    "from scipy.stats import kurtosis"
   ]
  },
  {
   "cell_type": "code",
   "execution_count": null,
   "id": "38226015",
   "metadata": {},
   "outputs": [],
   "source": [
    "def summary_stats(data, pvms, airmask=None, erode=True):\n",
    "    r\"\"\"\n",
    "    Estimates the mean, the median, the standard deviation,\n",
    "    the kurtosis,the median absolute deviation (mad), the 95\\%\n",
    "    and the 5\\% percentiles and the number of voxels (summary\\_\\*\\_n)\n",
    "    of each tissue distribution.\n",
    "    .. warning ::\n",
    "        Sometimes (with datasets that have been partially processed), the air\n",
    "        mask will be empty. In those cases, the background stats will be zero\n",
    "        for the mean, median, percentiles and kurtosis, the sum of voxels in\n",
    "        the other remaining labels for ``n``, and finally the MAD and the\n",
    "        :math:`\\sigma` will be calculated as:\n",
    "        .. math ::\n",
    "            \\sigma_\\text{BG} = \\sqrt{\\sum \\sigma_\\text{i}^2}\n",
    "    \"\"\"\n",
    "    from statsmodels.stats.weightstats import DescrStatsW\n",
    "    from statsmodels.robust.scale import mad\n",
    "\n",
    "    output = {}\n",
    "    for label, probmap in pvms.items():\n",
    "        wstats = DescrStatsW(data=data.reshape(-1), weights=probmap.reshape(-1))\n",
    "        nvox = probmap.sum()\n",
    "        p05, median, p95 = wstats.quantile(\n",
    "            np.array([0.05, 0.50, 0.95]),\n",
    "            return_pandas=False,\n",
    "        )\n",
    "        thresholded = data[probmap > (0.5 * probmap.max())]\n",
    "\n",
    "        output[label] = {\n",
    "            \"mean\": float(wstats.mean),\n",
    "            \"median\": float(median),\n",
    "            \"p95\": float(p95),\n",
    "            \"p05\": float(p05),\n",
    "            \"k\": float(kurtosis(thresholded)),\n",
    "            \"stdv\": float(wstats.std),\n",
    "            \"mad\": float(mad(thresholded, center=median)),\n",
    "            \"n\": float(nvox),\n",
    "        }\n",
    "\n",
    "    return output"
   ]
  },
  {
   "cell_type": "code",
   "execution_count": null,
   "id": "dbdaec1a",
   "metadata": {},
   "outputs": [],
   "source": [
    "def volume_fraction(pvms):\n",
    "    r\"\"\"\n",
    "    Computes the :abbr:`ICV (intracranial volume)` fractions\n",
    "    corresponding to the (partial volume maps).\n",
    "    .. math ::\n",
    "        \\text{ICV}^k = \\frac{\\sum_i p^k_i}{\\sum\\limits_{x \\in X_\\text{brain}} 1}\n",
    "    :param list pvms: list of :code:`numpy.ndarray` of partial volume maps.\n",
    "    \"\"\"\n",
    "    tissue_vfs = {}\n",
    "    total = 0\n",
    "    for k, lid in list(SEGM.items()):\n",
    "        if lid == 0:\n",
    "            continue\n",
    "        tissue_vfs[k] = pvms[lid - 1].sum()\n",
    "        total += tissue_vfs[k]\n",
    "\n",
    "    for k in list(tissue_vfs.keys()):\n",
    "        tissue_vfs[k] /= total\n",
    "    return {k: float(v) for k, v in list(tissue_vfs.items())}"
   ]
  },
  {
   "cell_type": "code",
   "execution_count": null,
   "id": "53490c71",
   "metadata": {},
   "outputs": [],
   "source": [
    "from math import sqrt\n"
   ]
  },
  {
   "cell_type": "code",
   "execution_count": null,
   "id": "2be14437",
   "metadata": {},
   "outputs": [],
   "source": [
    "def snr(mu_fg, sigma_fg, n):\n",
    "    r\"\"\"\n",
    "    Calculate the :abbr:`SNR (Signal-to-Noise Ratio)`.\n",
    "    The estimation may be provided with only one foreground region in\n",
    "    which the noise is computed as follows:\n",
    "    .. math::\n",
    "        \\text{SNR} = \\frac{\\mu_F}{\\sigma_F\\sqrt{n/(n-1)}},\n",
    "    where :math:`\\mu_F` is the mean intensity of the foreground and\n",
    "    :math:`\\sigma_F` is the standard deviation of the same region.\n",
    "    :param float mu_fg: mean of foreground.\n",
    "    :param float sigma_fg: standard deviation of foreground.\n",
    "    :param int n: number of voxels in foreground mask.\n",
    "    :return: the computed SNR\n",
    "    \"\"\"\n",
    "    return float(mu_fg / (sigma_fg * sqrt(n / (n - 1))))"
   ]
  },
  {
   "cell_type": "code",
   "execution_count": null,
   "id": "ebeea3f0",
   "metadata": {},
   "outputs": [],
   "source": [
    "def cnr(mu_wm, mu_gm, sigma_air, sigma_wm, sigma_gm):\n",
    "    r\"\"\"\n",
    "    Calculate the :abbr:`CNR (Contrast-to-Noise Ratio)` [Magnota2006]_.\n",
    "    Higher values are better.\n",
    "    .. math::\n",
    "        \\text{CNR} = \\frac{|\\mu_\\text{GM} - \\mu_\\text{WM} |}{\\sqrt{\\sigma_B^2 +\n",
    "        \\sigma_\\text{WM}^2 + \\sigma_\\text{GM}^2}},\n",
    "    where :math:`\\sigma_B` is the standard deviation of the noise distribution within\n",
    "    the air (background) mask.\n",
    "    :param float mu_wm: mean of signal within white-matter mask.\n",
    "    :param float mu_gm: mean of signal within gray-matter mask.\n",
    "    :param float sigma_air: standard deviation of the air surrounding the head (\"hat\" mask).\n",
    "    :param float sigma_wm: standard deviation within white-matter mask.\n",
    "    :param float sigma_gm: standard within gray-matter mask.\n",
    "    :return: the computed CNR\n",
    "    \"\"\"\n",
    "    # Does this make sense to implement this given that sigma_air=0 artificially?\n",
    "    return float(abs(mu_wm - mu_gm) / sqrt(sigma_air**2 + sigma_gm**2 + sigma_wm**2))"
   ]
  },
  {
   "cell_type": "code",
   "execution_count": null,
   "id": "17b4270d",
   "metadata": {},
   "outputs": [],
   "source": [
    "def cjv(mu_wm, mu_gm, sigma_wm, sigma_gm):\n",
    "    r\"\"\"\n",
    "    Calculate the :abbr:`CJV (coefficient of joint variation)`, a measure\n",
    "    related to :abbr:`SNR (Signal-to-Noise Ratio)` and\n",
    "    :abbr:`CNR (Contrast-to-Noise Ratio)` that is presented as a proxy for\n",
    "    the :abbr:`INU (intensity non-uniformity)` artifact [Ganzetti2016]_.\n",
    "    Lower is better.\n",
    "    .. math::\n",
    "        \\text{CJV} = \\frac{\\sigma_\\text{WM} + \\sigma_\\text{GM}}{|\\mu_\\text{WM} - \\mu_\\text{GM}|}.\n",
    "    :param float mu_wm: mean of signal within white-matter mask.\n",
    "    :param float mu_gm: mean of signal within gray-matter mask.\n",
    "    :param float sigma_wm: standard deviation of signal within white-matter mask.\n",
    "    :param float sigma_gm: standard deviation of signal within gray-matter mask.\n",
    "    :return: the computed CJV\n",
    "    \"\"\"\n",
    "    return float((sigma_wm + sigma_gm) / abs(mu_wm - mu_gm))"
   ]
  },
  {
   "cell_type": "code",
   "execution_count": null,
   "id": "15948604",
   "metadata": {},
   "outputs": [],
   "source": [
    "def wm2max(img, mu_wm):\n",
    "    r\"\"\"\n",
    "    Calculate the :abbr:`WM2MAX (white-matter-to-max ratio)`,\n",
    "    defined as the maximum intensity found in the volume w.r.t. the\n",
    "    mean value of the white matter tissue. Values close to 1.0 are\n",
    "    better:\n",
    "    .. math ::\n",
    "        \\text{WM2MAX} = \\frac{\\mu_\\text{WM}}{P_{99.95}(X)}\n",
    "    \"\"\"\n",
    "    return float(mu_wm / np.percentile(img.reshape(-1), 99.95))"
   ]
  },
  {
   "cell_type": "code",
   "execution_count": null,
   "id": "f21ed898",
   "metadata": {},
   "outputs": [],
   "source": [
    "\n",
    "\n",
    "        # FBER\n",
    "        self._results[\"fber\"] = fber(inudata, headdata, rotdata)\n",
    "\n",
    "        # EFC\n",
    "        self._results[\"efc\"] = efc(inudata, rotdata)\n",
    "\n",
    "        \n",
    "\n",
    "        # Artifacts\n",
    "        self._results[\"qi_1\"] = art_qi1(airdata, artdata)\n",
    "\n",
    "\n",
    "\n",
    "        # FWHM\n",
    "        fwhm = np.array(self.inputs.in_fwhm[:3]) / np.array(imnii.header.get_zooms()[:3])\n",
    "        self._results[\"fwhm\"] = {\n",
    "            \"x\": float(fwhm[0]),\n",
    "            \"y\": float(fwhm[1]),\n",
    "            \"z\": float(fwhm[2]),\n",
    "            \"avg\": float(np.average(fwhm)),\n",
    "        }\n",
    "\n",
    "\n",
    "\n",
    "        # Image specs\n",
    "        self._results[\"size\"] = {\n",
    "            \"x\": int(inudata.shape[0]),\n",
    "            \"y\": int(inudata.shape[1]),\n",
    "            \"z\": int(inudata.shape[2]),\n",
    "        }\n",
    "        self._results[\"spacing\"] = {\n",
    "            i: float(v) for i, v in zip([\"x\", \"y\", \"z\"], imnii.header.get_zooms()[:3])\n",
    "        }\n",
    "\n",
    "        try:\n",
    "            self._results[\"size\"][\"t\"] = int(inudata.shape[3])\n",
    "        except IndexError:\n",
    "            pass\n",
    "\n",
    "        try:\n",
    "            self._results[\"spacing\"][\"tr\"] = float(imnii.header.get_zooms()[3])\n",
    "        except IndexError:\n",
    "            pass\n"
   ]
  },
  {
   "cell_type": "code",
   "execution_count": null,
   "id": "05e7d22a",
   "metadata": {},
   "outputs": [],
   "source": [
    "def rpve(pvms, seg):\n",
    "    \"\"\"\n",
    "    Computes the :abbr:`rPVe (residual partial voluming error)`\n",
    "    of each tissue class.\n",
    "    .. math ::\n",
    "        \\\\text{rPVE}^k = \\\\frac{1}{N} \\\\left[ \\\\sum\\\\limits_{p^k_i \\\n",
    "\\\\in [0.5, P_{98}]} p^k_i + \\\\sum\\\\limits_{p^k_i \\\\in [P_{2}, 0.5)} 1 - p^k_i \\\\right]\n",
    "    \"\"\"\n",
    "\n",
    "    pvfs = {}\n",
    "    for k, lid in list(SEGM.items()):\n",
    "        if lid == 0:\n",
    "            continue\n",
    "        pvmap = pvms[lid - 1]\n",
    "        pvmap[pvmap < 0.0] = 0.0\n",
    "        pvmap[pvmap >= 1.0] = 1.0\n",
    "        totalvol = np.sum(pvmap > 0.0)\n",
    "        upth = np.percentile(pvmap[pvmap > 0], 98)\n",
    "        loth = np.percentile(pvmap[pvmap > 0], 2)\n",
    "        pvmap[pvmap < loth] = 0\n",
    "        pvmap[pvmap > upth] = 0\n",
    "        pvfs[k] = (pvmap[pvmap > 0.5].sum() + (1.0 - pvmap[pvmap <= 0.5]).sum()) / totalvol\n",
    "    return {k: float(v) for k, v in list(pvfs.items())}"
   ]
  },
  {
   "cell_type": "code",
   "execution_count": null,
   "id": "906f1000",
   "metadata": {},
   "outputs": [],
   "source": [
    "seg[2].sum()"
   ]
  },
  {
   "cell_type": "code",
   "execution_count": null,
   "id": "8848cc96",
   "metadata": {},
   "outputs": [],
   "source": [
    "proba.shape"
   ]
  },
  {
   "cell_type": "code",
   "execution_count": null,
   "id": "cacede60",
   "metadata": {},
   "outputs": [],
   "source": [
    "pvms = {segm_names[l]: proba[l] for l in SEGM.values()}\n",
    "segm_map = {segm_names[l]: seg == l for l in SEGM.values()}\n",
    "pvmdata = list(pvms.values())\n",
    "segmdata = list(segm_map.values())"
   ]
  },
  {
   "cell_type": "code",
   "execution_count": null,
   "id": "32baa60f",
   "metadata": {},
   "outputs": [],
   "source": []
  },
  {
   "cell_type": "code",
   "execution_count": null,
   "id": "4c3dd9a2",
   "metadata": {},
   "outputs": [],
   "source": [
    "def eval_iqm(datanii, segm, segm2):\n",
    "    data = datanii.get_fdata().transpose(2,1,0)\n",
    "    segmdata = list(segm.values())\n",
    "    results = {}\n",
    "    stats = summary_stats(data,segm)\n",
    "    results[\"stats\"] = stats\n",
    "    snrvals = []\n",
    "    results[\"snr\"] = {}\n",
    "    for tlabel in SEGM.keys():\n",
    "        snrvals.append(\n",
    "            snr(\n",
    "                stats[tlabel][\"median\"],\n",
    "                stats[tlabel][\"stdv\"],\n",
    "                stats[tlabel][\"n\"],\n",
    "            )\n",
    "        )\n",
    "        results[\"snr\"][tlabel] = snrvals[-1]\n",
    "    results[\"snr\"][\"total\"] = float(np.mean(snrvals))\n",
    "        # CJV\n",
    "    results[\"cjv\"] = cjv(\n",
    "            # mu_wm, mu_gm, sigma_wm, sigma_gm\n",
    "            stats[\"WM\"][\"median\"],\n",
    "            stats[\"GM\"][\"median\"],\n",
    "            stats[\"WM\"][\"mad\"],\n",
    "            stats[\"GM\"][\"mad\"],\n",
    "        )    \n",
    "    # CNR\n",
    "    results[\"cnr\"] = cnr(\n",
    "        stats[\"WM\"][\"median\"],\n",
    "        stats[\"GM\"][\"median\"],\n",
    "        stats[\"BG\"][\"stdv\"],\n",
    "        stats[\"WM\"][\"stdv\"],\n",
    "        stats[\"GM\"][\"stdv\"],\n",
    "    )\n",
    "    # M2WM\n",
    "    results[\"wm2max\"] = wm2max(data, stats[\"WM\"][\"median\"])\n",
    "    \n",
    "    # ICVs\n",
    "    results[\"icvs\"] = volume_fraction(segmdata)\n",
    "\n",
    "    # RPVE\n",
    "    #results[\"rpve\"] = rpve(pvmdata, segm2)\n",
    "    \n",
    "    # Image specs\n",
    "    results[\"size\"] = {\n",
    "            \"x\": int(data.shape[0]),\n",
    "            \"y\": int(data.shape[1]),\n",
    "            \"z\": int(data.shape[2]),\n",
    "        }\n",
    "    results[\"spacing\"] = {\n",
    "            i: float(v) for i, v in zip([\"x\", \"y\", \"z\"], datanii.header.get_zooms()[:3])\n",
    "        }    \n",
    "    return results"
   ]
  },
  {
   "cell_type": "code",
   "execution_count": null,
   "id": "66e3c6a3",
   "metadata": {},
   "outputs": [],
   "source": [
    "pvms"
   ]
  },
  {
   "cell_type": "code",
   "execution_count": null,
   "id": "f95f106d",
   "metadata": {},
   "outputs": [],
   "source": [
    "print(eval_iqm(datanii, pvms, segm_map))\n",
    "print()\n",
    "print(eval_iqm(datanii,segm_map, segm_map))"
   ]
  },
  {
   "cell_type": "code",
   "execution_count": null,
   "id": "3b7b8d4c",
   "metadata": {},
   "outputs": [],
   "source": []
  }
 ],
 "metadata": {
  "kernelspec": {
   "display_name": "Python (fetal_brain_qc2)",
   "language": "python",
   "name": "fetal_brain_qc2"
  },
  "language_info": {
   "codemirror_mode": {
    "name": "ipython",
    "version": 3
   },
   "file_extension": ".py",
   "mimetype": "text/x-python",
   "name": "python",
   "nbconvert_exporter": "python",
   "pygments_lexer": "ipython3",
   "version": "3.9.15"
  }
 },
 "nbformat": 4,
 "nbformat_minor": 5
}
